{
 "cells": [
  {
   "cell_type": "code",
   "execution_count": 2,
   "id": "a6172c83",
   "metadata": {},
   "outputs": [
    {
     "name": "stdout",
     "output_type": "stream",
     "text": [
      "Collecting image\n",
      "  Downloading image-1.5.33.tar.gz (15 kB)\n",
      "  Installing build dependencies: started\n",
      "  Installing build dependencies: finished with status 'done'\n",
      "  Getting requirements to build wheel: started\n",
      "  Getting requirements to build wheel: finished with status 'done'\n",
      "  Preparing metadata (pyproject.toml): started\n",
      "  Preparing metadata (pyproject.toml): finished with status 'done'\n",
      "Requirement already satisfied: pillow in c:\\users\\ali\\appdata\\local\\programs\\python\\python313\\lib\\site-packages (from image) (11.3.0)\n",
      "Requirement already satisfied: django in c:\\users\\ali\\appdata\\local\\programs\\python\\python313\\lib\\site-packages (from image) (5.2.3)\n",
      "Requirement already satisfied: six in c:\\users\\ali\\appdata\\roaming\\python\\python313\\site-packages (from image) (1.17.0)\n",
      "Requirement already satisfied: asgiref>=3.8.1 in c:\\users\\ali\\appdata\\local\\programs\\python\\python313\\lib\\site-packages (from django->image) (3.8.1)\n",
      "Requirement already satisfied: sqlparse>=0.3.1 in c:\\users\\ali\\appdata\\local\\programs\\python\\python313\\lib\\site-packages (from django->image) (0.5.3)\n",
      "Requirement already satisfied: tzdata in c:\\users\\ali\\appdata\\local\\programs\\python\\python313\\lib\\site-packages (from django->image) (2025.2)\n",
      "Building wheels for collected packages: image\n",
      "  Building wheel for image (pyproject.toml): started\n",
      "  Building wheel for image (pyproject.toml): finished with status 'done'\n",
      "  Created wheel for image: filename=image-1.5.33-py2.py3-none-any.whl size=19562 sha256=eb5046701cead4a418046104820f7147c15eb282c6faea55ad79c82ccf77dbe7\n",
      "  Stored in directory: c:\\users\\ali\\appdata\\local\\pip\\cache\\wheels\\d3\\1b\\a8\\8fecb075fe65c1bd04431aeb3e1562e41fe3d77f5df9288ae6\n",
      "Successfully built image\n",
      "Installing collected packages: image\n",
      "Successfully installed image-1.5.33\n",
      "Note: you may need to restart the kernel to use updated packages.\n"
     ]
    },
    {
     "name": "stderr",
     "output_type": "stream",
     "text": [
      "\n",
      "[notice] A new release of pip is available: 25.1.1 -> 25.2\n",
      "[notice] To update, run: python.exe -m pip install --upgrade pip\n"
     ]
    }
   ],
   "source": [
    "pip install image"
   ]
  },
  {
   "cell_type": "code",
   "execution_count": 3,
   "id": "a0e93567",
   "metadata": {},
   "outputs": [],
   "source": [
    "import image"
   ]
  },
  {
   "cell_type": "code",
   "execution_count": 7,
   "id": "de21adaa",
   "metadata": {},
   "outputs": [
    {
     "ename": "AttributeError",
     "evalue": "module 'image' has no attribute 'Image'",
     "output_type": "error",
     "traceback": [
      "\u001b[31m---------------------------------------------------------------------------\u001b[39m",
      "\u001b[31mAttributeError\u001b[39m                            Traceback (most recent call last)",
      "\u001b[36mCell\u001b[39m\u001b[36m \u001b[39m\u001b[32mIn[7]\u001b[39m\u001b[32m, line 1\u001b[39m\n\u001b[32m----> \u001b[39m\u001b[32m1\u001b[39m img = \u001b[43mimage\u001b[49m\u001b[43m.\u001b[49m\u001b[43mImage\u001b[49m(\u001b[33m'\u001b[39m\u001b[33mC:\u001b[39m\u001b[38;5;130;01m\\\\\u001b[39;00m\u001b[33mUsers\u001b[39m\u001b[38;5;130;01m\\\\\u001b[39;00m\u001b[33mAli\u001b[39m\u001b[38;5;130;01m\\\\\u001b[39;00m\u001b[33mDesktop\u001b[39m\u001b[38;5;130;01m\\\\\u001b[39;00m\u001b[33mCoursera\u001b[39m\u001b[38;5;130;01m\\\\\u001b[39;00m\u001b[33mMachine Learning\u001b[39m\u001b[38;5;130;01m\\\\\u001b[39;00m\u001b[33mimage_processing\u001b[39m\u001b[38;5;130;01m\\\\\u001b[39;00m\u001b[33mhills.png\u001b[39m\u001b[33m'\u001b[39m)\n",
      "\u001b[31mAttributeError\u001b[39m: module 'image' has no attribute 'Image'"
     ]
    }
   ],
   "source": [
    "img = image.Image('img-path')"
   ]
  },
  {
   "cell_type": "code",
   "execution_count": 8,
   "id": "770ba665",
   "metadata": {},
   "outputs": [
    {
     "ename": "AttributeError",
     "evalue": "module 'image' has no attribute 'Image'",
     "output_type": "error",
     "traceback": [
      "\u001b[31m---------------------------------------------------------------------------\u001b[39m",
      "\u001b[31mAttributeError\u001b[39m                            Traceback (most recent call last)",
      "\u001b[36mCell\u001b[39m\u001b[36m \u001b[39m\u001b[32mIn[8]\u001b[39m\u001b[32m, line 3\u001b[39m\n\u001b[32m      1\u001b[39m \u001b[38;5;28;01mimport\u001b[39;00m\u001b[38;5;250m \u001b[39m\u001b[34;01mimage\u001b[39;00m\n\u001b[32m----> \u001b[39m\u001b[32m3\u001b[39m img = \u001b[43mimage\u001b[49m\u001b[43m.\u001b[49m\u001b[43mImage\u001b[49m(\u001b[33m\"\u001b[39m\u001b[33mluther.jpg\u001b[39m\u001b[33m\"\u001b[39m)\n\u001b[32m      4\u001b[39m win = image.ImageWin(img.getWidth(), img.getHeight())\n\u001b[32m      5\u001b[39m img.draw(win)\n",
      "\u001b[31mAttributeError\u001b[39m: module 'image' has no attribute 'Image'"
     ]
    }
   ],
   "source": [
    "import image\n",
    "\n",
    "img = image.Image(\"luther.jpg\")\n",
    "win = image.ImageWin(img.getWidth(), img.getHeight())\n",
    "img.draw(win)\n",
    "img.setDelay(1,15)   # setDelay(0) turns off animation\n",
    "\n",
    "for col in range(img.getWidth()):\n",
    "    for row in range(img.getHeight()):\n",
    "        p = img.getPixel(col, row)\n",
    "\n",
    "        newred = p.getRed()\n",
    "        newgreen = 0\n",
    "        newblue = 0\n",
    "\n",
    "        newpixel = image.Pixel(newred, newgreen, newblue)\n",
    "\n",
    "        img.setPixel(col, row, newpixel)\n",
    "\n",
    "img.draw(win)\n",
    "win.exitonclick()\n"
   ]
  }
 ],
 "metadata": {
  "kernelspec": {
   "display_name": "Python 3",
   "language": "python",
   "name": "python3"
  },
  "language_info": {
   "codemirror_mode": {
    "name": "ipython",
    "version": 3
   },
   "file_extension": ".py",
   "mimetype": "text/x-python",
   "name": "python",
   "nbconvert_exporter": "python",
   "pygments_lexer": "ipython3",
   "version": "3.13.3"
  }
 },
 "nbformat": 4,
 "nbformat_minor": 5
}
