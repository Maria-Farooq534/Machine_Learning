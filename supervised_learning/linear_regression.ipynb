{
 "cells": [
  {
   "cell_type": "markdown",
   "id": "689454ab",
   "metadata": {},
   "source": [
    "Importing numpy and matplotlib"
   ]
  },
  {
   "cell_type": "code",
   "execution_count": 1,
   "id": "8d884c0d",
   "metadata": {},
   "outputs": [],
   "source": [
    "import numpy as np\n",
    "import matplotlib.pyplot as plt"
   ]
  },
  {
   "cell_type": "markdown",
   "id": "86c63324",
   "metadata": {},
   "source": [
    "creating x_train and y_train"
   ]
  },
  {
   "cell_type": "code",
   "execution_count": 2,
   "id": "9804642f",
   "metadata": {},
   "outputs": [
    {
     "name": "stdout",
     "output_type": "stream",
     "text": [
      "x_train = [1. 2.]\n",
      "y_train = [300. 500.]\n"
     ]
    }
   ],
   "source": [
    "x_train = np.array([1.0 , 2.0])\n",
    "y_train = np.array([300.0 , 500.0])\n",
    "print(f\"x_train = {x_train}\")\n",
    "print(f\"y_train = {y_train}\")"
   ]
  },
  {
   "cell_type": "markdown",
   "id": "756a7f57",
   "metadata": {},
   "source": [
    "Printing shape"
   ]
  },
  {
   "cell_type": "code",
   "execution_count": null,
   "id": "a650e299",
   "metadata": {},
   "outputs": [
    {
     "name": "stdout",
     "output_type": "stream",
     "text": [
      "The shape of x_train is: (2,)\n",
      "2\n"
     ]
    }
   ],
   "source": [
    "print(f\"The shape of x_train is: {x_train.shape}\") \n",
    "m= x_train.shape[0] \n",
    "print(m)"
   ]
  },
  {
   "cell_type": "markdown",
   "id": "4a946a33",
   "metadata": {},
   "source": [
    "using len() function."
   ]
  },
  {
   "cell_type": "code",
   "execution_count": 10,
   "id": "a0a1c39e",
   "metadata": {},
   "outputs": [
    {
     "name": "stdout",
     "output_type": "stream",
     "text": [
      "2\n"
     ]
    }
   ],
   "source": [
    "m = len(x_train)\n",
    "print(m)"
   ]
  },
  {
   "cell_type": "code",
   "execution_count": 13,
   "id": "231cb6de",
   "metadata": {},
   "outputs": [
    {
     "name": "stdout",
     "output_type": "stream",
     "text": [
      "(3, 2)\n"
     ]
    }
   ],
   "source": [
    "a = np.array([\n",
    "    [1,2],\n",
    "    [2,3],\n",
    "    [3,4]\n",
    "])\n",
    "print(a.shape)"
   ]
  },
  {
   "cell_type": "code",
   "execution_count": null,
   "id": "e738078a",
   "metadata": {},
   "outputs": [
    {
     "name": "stdout",
     "output_type": "stream",
     "text": [
      "(x^1 , y^1) = (2.0, 500.0)\n"
     ]
    }
   ],
   "source": [
    "# i = 0\n",
    "i = 1\n",
    "x_i = x_train[i]\n",
    "y_i = y_train[i]\n",
    "\n",
    "print(f\"(x^{i} , y^{i}) = ({x_i}, {y_i})\")"
   ]
  },
  {
   "cell_type": "markdown",
   "id": "75fb773e",
   "metadata": {},
   "source": [
    "Plot Results\n",
    "In this marker defines the shape of points on the plot.\n",
    "'o' → circle\n",
    "\n",
    "'s' → square\n",
    "\n",
    "'^' → triangle\n",
    "\n",
    "'+' → plus sign\n",
    "\n",
    "'x' → X shape\n",
    "\n",
    "and\n",
    "\n",
    "c defines the color, here c='r' means color of points is red"
   ]
  },
  {
   "cell_type": "code",
   "execution_count": 18,
   "id": "c4651be7",
   "metadata": {},
   "outputs": [
    {
     "data": {
      "text/plain": [
       "Text(0.5, 0, 'Size(in sqft)')"
      ]
     },
     "execution_count": 18,
     "metadata": {},
     "output_type": "execute_result"
    },
    {
     "data": {
      "image/png": "[encoded data removed]",
      "text/plain": [
       "<Figure size 640x480 with 1 Axes>"
      ]
     },
     "metadata": {},
     "output_type": "display_data"
    }
   ],
   "source": [
    "plt.scatter(x_train, y_train , marker='x' , c= 'r')\n",
    "#setting name of plot\n",
    "plt.title(\"House Price prediction\")\n",
    "#Setting x label\n",
    "plt.ylabel(\"Price(in 1000s of dollars)\")\n",
    "#setting y label\n",
    "plt.xlabel(\"Size(in sqft)\")\n"
   ]
  }
 ],
 "metadata": {
  "kernelspec": {
   "display_name": "Python 3",
   "language": "python",
   "name": "python3"
  },
  "language_info": {
   "codemirror_mode": {
    "name": "ipython",
    "version": 3
   },
   "file_extension": ".py",
   "mimetype": "text/x-python",
   "name": "python",
   "nbconvert_exporter": "python",
   "pygments_lexer": "ipython3",
   "version": "3.11.8"
  }
 },
 "nbformat": 4,
 "nbformat_minor": 5
}
