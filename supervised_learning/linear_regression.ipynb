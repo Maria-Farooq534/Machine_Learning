{
 "cells": [
  {
   "cell_type": "markdown",
   "id": "689454ab",
   "metadata": {},
   "source": [
    "Importing numpy and matplotlib"
   ]
  },
  {
   "cell_type": "code",
   "execution_count": 1,
   "id": "8d884c0d",
   "metadata": {},
   "outputs": [],
   "source": [
    "import numpy as np\n",
    "import matplotlib.pyplot as plt"
   ]
  },
  {
   "cell_type": "markdown",
   "id": "86c63324",
   "metadata": {},
   "source": [
    "creating x_train and y_train"
   ]
  },
  {
   "cell_type": "code",
   "execution_count": 2,
   "id": "9804642f",
   "metadata": {},
   "outputs": [
    {
     "name": "stdout",
     "output_type": "stream",
     "text": [
      "x_train = [1. 2.]\n",
      "y_train = [300. 500.]\n"
     ]
    }
   ],
   "source": [
    "x_train = np.array([1.0 , 2.0])\n",
    "y_train = np.array([300.0 , 500.0])\n",
    "print(f\"x_train = {x_train}\")\n",
    "print(f\"y_train = {y_train}\")"
   ]
  },
  {
   "cell_type": "markdown",
   "id": "756a7f57",
   "metadata": {},
   "source": [
    "Printing shape"
   ]
  },
  {
   "cell_type": "code",
   "execution_count": null,
   "id": "a650e299",
   "metadata": {},
   "outputs": [
    {
     "name": "stdout",
     "output_type": "stream",
     "text": [
      "The shape of x_train is: (2,)\n",
      "2\n"
     ]
    }
   ],
   "source": [
    "print(f\"The shape of x_train is: {x_train.shape}\") \n",
    "m= x_train.shape[0] \n",
    "print(m)"
   ]
  },
  {
   "cell_type": "markdown",
   "id": "4a946a33",
   "metadata": {},
   "source": [
    "using len() function."
   ]
  },
  {
   "cell_type": "code",
   "execution_count": 10,
   "id": "a0a1c39e",
   "metadata": {},
   "outputs": [
    {
     "name": "stdout",
     "output_type": "stream",
     "text": [
      "2\n"
     ]
    }
   ],
   "source": [
    "m = len(x_train)\n",
    "print(m)"
   ]
  },
  {
   "cell_type": "code",
   "execution_count": 13,
   "id": "231cb6de",
   "metadata": {},
   "outputs": [
    {
     "name": "stdout",
     "output_type": "stream",
     "text": [
      "(3, 2)\n"
     ]
    }
   ],
   "source": [
    "a = np.array([\n",
    "    [1,2],\n",
    "    [2,3],\n",
    "    [3,4]\n",
    "])\n",
    "print(a.shape)"
   ]
  }
 ],
 "metadata": {
  "kernelspec": {
   "display_name": "Python 3",
   "language": "python",
   "name": "python3"
  },
  "language_info": {
   "codemirror_mode": {
    "name": "ipython",
    "version": 3
   },
   "file_extension": ".py",
   "mimetype": "text/x-python",
   "name": "python",
   "nbconvert_exporter": "python",
   "pygments_lexer": "ipython3",
   "version": "3.11.8"
  }
 },
 "nbformat": 4,
 "nbformat_minor": 5
}
