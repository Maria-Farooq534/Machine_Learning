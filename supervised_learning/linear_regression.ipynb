{
 "cells": [
  {
   "cell_type": "markdown",
   "id": "689454ab",
   "metadata": {},
   "source": [
    "Importing numpy and matplotlib"
   ]
  },
  {
   "cell_type": "code",
   "execution_count": 1,
   "id": "8d884c0d",
   "metadata": {},
   "outputs": [],
   "source": [
    "import numpy as np\n",
    "import matplotlib.pyplot as plt"
   ]
  },
  {
   "cell_type": "markdown",
   "id": "86c63324",
   "metadata": {},
   "source": [
    "creating x_train and y_train"
   ]
  },
  {
   "cell_type": "code",
   "execution_count": 2,
   "id": "9804642f",
   "metadata": {},
   "outputs": [
    {
     "name": "stdout",
     "output_type": "stream",
     "text": [
      "x_train = [1. 2.]\n",
      "y_train = [300. 500.]\n"
     ]
    }
   ],
   "source": [
    "x_train = np.array([1.0 , 2.0])\n",
    "y_train = np.array([300.0 , 500.0])\n",
    "print(f\"x_train = {x_train}\")\n",
    "print(f\"y_train = {y_train}\")"
   ]
  },
  {
   "cell_type": "markdown",
   "id": "756a7f57",
   "metadata": {},
   "source": [
    "Printing shape"
   ]
  },
  {
   "cell_type": "code",
   "execution_count": null,
   "id": "a650e299",
   "metadata": {},
   "outputs": [
    {
     "name": "stdout",
     "output_type": "stream",
     "text": [
      "The shape of x_train is: (2,)\n",
      "2\n"
     ]
    }
   ],
   "source": [
    "print(f\"The shape of x_train is: {x_train.shape}\") \n",
    "m= x_train.shape[0] \n",
    "print(m)"
   ]
  },
  {
   "cell_type": "markdown",
   "id": "4a946a33",
   "metadata": {},
   "source": [
    "using len() function."
   ]
  },
  {
   "cell_type": "code",
   "execution_count": 10,
   "id": "a0a1c39e",
   "metadata": {},
   "outputs": [
    {
     "name": "stdout",
     "output_type": "stream",
     "text": [
      "2\n"
     ]
    }
   ],
   "source": [
    "m = len(x_train)\n",
    "print(m)"
   ]
  },
  {
   "cell_type": "code",
   "execution_count": null,
   "id": "231cb6de",
   "metadata": {},
   "outputs": [
    {
     "name": "stdout",
     "output_type": "stream",
     "text": [
      "(3, 2)\n"
     ]
    }
   ],
   "source": [
    "#Example only\n",
    "a = np.array([\n",
    "    [1,2],\n",
    "    [2,3],\n",
    "    [3,4]\n",
    "])\n",
    "print(a.shape)"
   ]
  },
  {
   "cell_type": "code",
   "execution_count": null,
   "id": "e738078a",
   "metadata": {},
   "outputs": [
    {
     "name": "stdout",
     "output_type": "stream",
     "text": [
      "(x^1 , y^1) = (2.0, 500.0)\n"
     ]
    }
   ],
   "source": [
    "# i = 0\n",
    "i = 1\n",
    "x_i = x_train[i]\n",
    "y_i = y_train[i]\n",
    "\n",
    "print(f\"(x^{i} , y^{i}) = ({x_i}, {y_i})\")"
   ]
  },
  {
   "cell_type": "markdown",
   "id": "75fb773e",
   "metadata": {},
   "source": [
    "Plot Results\n",
    "In this marker defines the shape of points on the plot.\n",
    "'o' → circle\n",
    "\n",
    "'s' → square\n",
    "\n",
    "'^' → triangle\n",
    "\n",
    "'+' → plus sign\n",
    "\n",
    "'x' → X shape\n",
    "\n",
    "and\n",
    "\n",
    "c defines the color, here c='r' means color of points is red"
   ]
  },
  {
   "cell_type": "code",
   "execution_count": 18,
   "id": "c4651be7",
   "metadata": {},
   "outputs": [
    {
     "data": {
      "text/plain": [
       "Text(0.5, 0, 'Size(in sqft)')"
      ]
     },
     "execution_count": 18,
     "metadata": {},
     "output_type": "execute_result"
    },
    {
     "data": {
      "image/png": "[encoded data removed]",
      "text/plain": [
       "<Figure size 640x480 with 1 Axes>"
      ]
     },
     "metadata": {},
     "output_type": "display_data"
    }
   ],
   "source": [
    "plt.scatter(x_train, y_train , marker='x' , c= 'r')\n",
    "#setting name of plot\n",
    "plt.title(\"House Price prediction\")\n",
    "#Setting x label\n",
    "plt.ylabel(\"Price(in 1000s of dollars)\")\n",
    "#setting y label\n",
    "plt.xlabel(\"Size(in sqft)\")\n"
   ]
  },
  {
   "cell_type": "markdown",
   "id": "5a40bf4d",
   "metadata": {},
   "source": [
    "Let's try to get a better intuition for this through the code blocks below. Let's start with  𝑤=100\n",
    "  and  𝑏=100"
   ]
  },
  {
   "cell_type": "code",
   "execution_count": 35,
   "id": "58751bda",
   "metadata": {},
   "outputs": [],
   "source": [
    "#w = 100 #intially\n",
    "w = 200\n",
    "b = 100"
   ]
  },
  {
   "cell_type": "markdown",
   "id": "7b6788f9",
   "metadata": {},
   "source": [
    "np.zeros(5) is a numpy function that will create an empty array of 5 zeros."
   ]
  },
  {
   "cell_type": "code",
   "execution_count": 32,
   "id": "5b20f8b7",
   "metadata": {},
   "outputs": [],
   "source": [
    "#Function to compute model output\n",
    "def compute_model_output(x,w,b):\n",
    "    m = x.shape[0]\n",
    "    f_wb = np.zeros(m)\n",
    "    for i in range(m):\n",
    "        f_wb[i] = w * x[i] + b\n",
    "    return f_wb\n"
   ]
  },
  {
   "cell_type": "markdown",
   "id": "86398e28",
   "metadata": {},
   "source": [
    "Now let's call the compute_model_output function and plot the output.."
   ]
  },
  {
   "cell_type": "code",
   "execution_count": 36,
   "id": "09e7c042",
   "metadata": {},
   "outputs": [
    {
     "data": {
      "image/png": "[encoded data removed]",
      "text/plain": [
       "<Figure size 640x480 with 1 Axes>"
      ]
     },
     "metadata": {},
     "output_type": "display_data"
    }
   ],
   "source": [
    "tmp_f_wb = compute_model_output(x_train,w,b)\n",
    "\n",
    "#Plot our model prediction\n",
    "plt.plot(x_train, tmp_f_wb, c='b' , label = \"Our Prediction\")\n",
    "plt.scatter(x_train, y_train, c=\"r\" , marker = \"x\" , label = \"Actual Values\")\n",
    "plt.title(\"Housing Prices\")\n",
    "plt.ylabel(\"Prices(in 1000s of dollars)\")\n",
    "plt.xlabel(\"Size(in sqft)\")\n",
    "plt.legend()\n",
    "plt.show()"
   ]
  },
  {
   "cell_type": "markdown",
   "id": "36db0518",
   "metadata": {},
   "source": [
    "Now that we have a model, we can use it to make our original prediction. Let's predict the price of a house with 1200 sqft. Since the units of  𝑥\n",
    "  are in 1000's of sqft,  𝑥\n",
    "  is 1.2.\n",
    "  AS we are using 1000s of sqft not plain sqft like 1200. so we will convert it into 1000s of sqft\n",
    "  1200/1000"
   ]
  },
  {
   "cell_type": "code",
   "execution_count": null,
   "id": "93aac470",
   "metadata": {},
   "outputs": [
    {
     "name": "stdout",
     "output_type": "stream",
     "text": [
      "1.2\n"
     ]
    }
   ],
   "source": [
    "#converting into 1000s of sqft\n",
    "size_of_house = 1200\n",
    "size_in_1000s_sqft = 1200/1000\n",
    "print(size_in_1000s_sqft)"
   ]
  },
  {
   "cell_type": "code",
   "execution_count": 43,
   "id": "be099990",
   "metadata": {},
   "outputs": [
    {
     "name": "stdout",
     "output_type": "stream",
     "text": [
      "Cost of 1200sqft house is: $340\n"
     ]
    }
   ],
   "source": [
    "w = 200\n",
    "b = 100\n",
    "x_i = 1.2\n",
    "cost_1200sqft = w * x_i + b\n",
    "print(f\"Cost of 1200sqft house is: ${cost_1200sqft:.0f}\") "
   ]
  }
 ],
 "metadata": {
  "kernelspec": {
   "display_name": "Python 3",
   "language": "python",
   "name": "python3"
  },
  "language_info": {
   "codemirror_mode": {
    "name": "ipython",
    "version": 3
   },
   "file_extension": ".py",
   "mimetype": "text/x-python",
   "name": "python",
   "nbconvert_exporter": "python",
   "pygments_lexer": "ipython3",
   "version": "3.11.8"
  }
 },
 "nbformat": 4,
 "nbformat_minor": 5
}
