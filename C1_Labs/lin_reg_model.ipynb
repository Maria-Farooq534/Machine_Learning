{
 "cells": [
  {
   "cell_type": "markdown",
   "id": "7cb32a93",
   "metadata": {},
   "source": [
    "Checklist:\n",
    "\n",
    "Am I using the right shape?\n",
    "Does Y_train match the number of samples? (len(X_train) == len(Y_train) → yes)."
   ]
  },
  {
   "cell_type": "code",
   "execution_count": 14,
   "id": "fe8ddef8",
   "metadata": {},
   "outputs": [],
   "source": [
    "import numpy as np\n",
    "import matplotlib.pyplot as plt"
   ]
  },
  {
   "cell_type": "code",
   "execution_count": 10,
   "id": "ff1aeaa5",
   "metadata": {},
   "outputs": [
    {
     "name": "stdout",
     "output_type": "stream",
     "text": [
      "[1 2 3]\n",
      "[2 3 4]\n"
     ]
    }
   ],
   "source": [
    "X_train = np.array([1,2,3])\n",
    "Y_train = np.array([2,3,4])\n",
    "print(X_train)\n",
    "print(Y_train)"
   ]
  },
  {
   "cell_type": "code",
   "execution_count": 11,
   "id": "d8b907e8",
   "metadata": {},
   "outputs": [
    {
     "name": "stdout",
     "output_type": "stream",
     "text": [
      "(3,) (3,)\n"
     ]
    }
   ],
   "source": [
    "# Always  check shape\n",
    "print(X_train.shape, Y_train.shape)\n"
   ]
  },
  {
   "cell_type": "code",
   "execution_count": 12,
   "id": "6ebaec4d",
   "metadata": {},
   "outputs": [
    {
     "name": "stdout",
     "output_type": "stream",
     "text": [
      "False False\n"
     ]
    }
   ],
   "source": [
    "print(np.isnan(X_train).any(), np.isnan(Y_train).any())"
   ]
  },
  {
   "cell_type": "code",
   "execution_count": 22,
   "id": "32ebca54",
   "metadata": {},
   "outputs": [
    {
     "name": "stdout",
     "output_type": "stream",
     "text": [
      "The shape of X_train :\n",
      " [[1]\n",
      " [2]\n",
      " [3]]\n",
      "(3, 1)\n",
      "The shape of Y_train :\n",
      " [[2]\n",
      " [3]\n",
      " [4]]\n",
      "(3, 1)\n"
     ]
    }
   ],
   "source": [
    "X_train = X_train.reshape(-1, 1)  \n",
    "# (-1, : automatically figure out number of ros. \n",
    "# 1 ) : this 1 indicates that there should be exactly 1 column\n",
    "\n",
    "Y_train = Y_train.reshape(-1, 1)\n",
    "\n",
    "print(f\"The shape of X_train :\\n {X_train}\")\n",
    "print(np.shape(X_train))\n",
    "\n",
    "print(f\"The shape of Y_train :\\n {Y_train}\")\n",
    "print(np.shape(Y_train))"
   ]
  },
  {
   "cell_type": "code",
   "execution_count": 23,
   "id": "99ad2f67",
   "metadata": {},
   "outputs": [
    {
     "data": {
      "image/png": "[encoded data removed]",
      "text/plain": [
       "<Figure size 640x480 with 1 Axes>"
      ]
     },
     "metadata": {},
     "output_type": "display_data"
    }
   ],
   "source": [
    "plt.scatter(X_train, Y_train)\n",
    "plt.show()"
   ]
  },
  {
   "cell_type": "code",
   "execution_count": 53,
   "id": "dd42b272",
   "metadata": {},
   "outputs": [],
   "source": [
    "w = 1\n",
    "b = 1"
   ]
  },
  {
   "cell_type": "code",
   "execution_count": 5,
   "id": "4d5455a0",
   "metadata": {},
   "outputs": [],
   "source": [
    "def compute_model_output(x,w,b):\n",
    "    \n",
    "    m = x.shape[0]\n",
    "    f_wb = np.zeros(m)\n",
    "    for i in range(m):\n",
    "        f_wb[i] =  w * x[i] + b\n",
    "    \n",
    "    return f_wb"
   ]
  },
  {
   "cell_type": "code",
   "execution_count": 6,
   "id": "ef5e6f29",
   "metadata": {},
   "outputs": [
    {
     "ename": "NameError",
     "evalue": "name 'X_train' is not defined",
     "output_type": "error",
     "traceback": [
      "\u001b[31m---------------------------------------------------------------------------\u001b[39m",
      "\u001b[31mNameError\u001b[39m                                 Traceback (most recent call last)",
      "\u001b[36mCell\u001b[39m\u001b[36m \u001b[39m\u001b[32mIn[6]\u001b[39m\u001b[32m, line 1\u001b[39m\n\u001b[32m----> \u001b[39m\u001b[32m1\u001b[39m output = compute_model_output(\u001b[43mX_train\u001b[49m,w,b)\n\u001b[32m      2\u001b[39m \u001b[38;5;66;03m#print(output)\u001b[39;00m\n\u001b[32m      3\u001b[39m plt.plot(X_train, output, label = \u001b[33m\"\u001b[39m\u001b[33mOur Predictions\u001b[39m\u001b[33m\"\u001b[39m , c= \u001b[33m\"\u001b[39m\u001b[33mr\u001b[39m\u001b[33m\"\u001b[39m)\n",
      "\u001b[31mNameError\u001b[39m: name 'X_train' is not defined"
     ]
    }
   ],
   "source": [
    "output = compute_model_output(X_train,w,b)\n",
    "#print(output)\n",
    "plt.plot(X_train, output, label = \"Our Predictions\" , c= \"r\")\n",
    "plt.scatter(X_train, Y_train, label = \"Actual Labels\", c = \"b\")\n",
    "plt.title(\"Model Prediction\")\n",
    "plt.xlabel(\"Area\")\n",
    "plt.ylabel(\"Price is $\")\n",
    "plt.legend()\n",
    "plt.show()"
   ]
  },
  {
   "cell_type": "code",
   "execution_count": null,
   "id": "5c8a15e1",
   "metadata": {},
   "outputs": [],
   "source": []
  }
 ],
 "metadata": {
  "kernelspec": {
   "display_name": "Python 3",
   "language": "python",
   "name": "python3"
  },
  "language_info": {
   "codemirror_mode": {
    "name": "ipython",
    "version": 3
   },
   "file_extension": ".py",
   "mimetype": "text/x-python",
   "name": "python",
   "nbconvert_exporter": "python",
   "pygments_lexer": "ipython3",
   "version": "3.13.3"
  }
 },
 "nbformat": 4,
 "nbformat_minor": 5
}
