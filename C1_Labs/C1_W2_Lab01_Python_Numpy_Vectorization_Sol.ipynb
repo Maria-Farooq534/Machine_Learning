{
 "cells": [
  {
   "cell_type": "code",
   "execution_count": 2,
   "id": "c37522e2",
   "metadata": {},
   "outputs": [],
   "source": [
    "import numpy as np\n",
    "import time"
   ]
  },
  {
   "cell_type": "markdown",
   "id": "d1a5a95e",
   "metadata": {},
   "source": [
    "Vector Creation"
   ]
  },
  {
   "cell_type": "code",
   "execution_count": 6,
   "id": "8b6640d9",
   "metadata": {},
   "outputs": [
    {
     "name": "stdout",
     "output_type": "stream",
     "text": [
      "[0. 1. 2. 3.]\n",
      "Type : <class 'numpy.ndarray'>\n",
      "Shape : (4,)\n"
     ]
    }
   ],
   "source": [
    "a1 = np.arange(4.)\n",
    "print(a1)\n",
    "print(f\"Type : {type(a1)}\")\n",
    "print(f\"Shape : {a1.shape}\")"
   ]
  },
  {
   "cell_type": "markdown",
   "id": "a14e6d47",
   "metadata": {},
   "source": [
    "Indexing"
   ]
  },
  {
   "cell_type": "code",
   "execution_count": 8,
   "id": "01a716dc",
   "metadata": {},
   "outputs": [
    {
     "name": "stdout",
     "output_type": "stream",
     "text": [
      "2.0\n"
     ]
    }
   ],
   "source": [
    "b1 = a1[2]\n",
    "print(b1)"
   ]
  },
  {
   "cell_type": "markdown",
   "id": "ab0d8aa5",
   "metadata": {},
   "source": [
    "Slicing"
   ]
  },
  {
   "cell_type": "code",
   "execution_count": 9,
   "id": "96c56a24",
   "metadata": {},
   "outputs": [
    {
     "name": "stdout",
     "output_type": "stream",
     "text": [
      "[1. 2.]\n"
     ]
    }
   ],
   "source": [
    "c1 = a1[1:3]\n",
    "print(c1)"
   ]
  },
  {
   "cell_type": "markdown",
   "id": "a88476e9",
   "metadata": {},
   "source": [
    "Vector Vector element-wise operations"
   ]
  },
  {
   "cell_type": "code",
   "execution_count": 12,
   "id": "8c3826f2",
   "metadata": {},
   "outputs": [
    {
     "name": "stdout",
     "output_type": "stream",
     "text": [
      "a + b = [ 6  8 10 12]\n"
     ]
    }
   ],
   "source": [
    "a = np.array([1,2,3,4])\n",
    "b = np.array([5,6,7,8])\n",
    "\n",
    "c = a + b\n",
    "print(f\"a + b = {c}\")"
   ]
  },
  {
   "cell_type": "markdown",
   "id": "359fbf08",
   "metadata": {},
   "source": [
    "When performing these operations, both the arrays should have same number of elements.\n",
    "If the len is not same, it throws an error."
   ]
  },
  {
   "cell_type": "code",
   "execution_count": 14,
   "id": "448b07a2",
   "metadata": {},
   "outputs": [
    {
     "name": "stdout",
     "output_type": "stream",
     "text": [
      "operands could not be broadcast together with shapes (4,) (3,) \n"
     ]
    }
   ],
   "source": [
    "a4 = np.array([1,2,3,4])\n",
    "b4 = np.array([5,6,8])\n",
    "\n",
    "try:\n",
    "    c = a4 + b4\n",
    "    print(f\"a + b = {c}\")\n",
    "except Exception as err:\n",
    "    print(err)"
   ]
  },
  {
   "cell_type": "markdown",
   "id": "39e17814",
   "metadata": {},
   "source": [
    "# Scalar Vector operations\n",
    "Vector can be scaled by a scaler: means that every element of a vector can be multiplied with a scaler number."
   ]
  },
  {
   "cell_type": "code",
   "execution_count": 16,
   "id": "39c99c6e",
   "metadata": {},
   "outputs": [
    {
     "name": "stdout",
     "output_type": "stream",
     "text": [
      "The result of a5 * 5 : [30 35 40 45]\n"
     ]
    }
   ],
   "source": [
    "a5 = np.array([6,7,8,9])\n",
    "b5 = a5 * 5\n",
    "print(f\"The result of a5 * 5 : {b5}\")"
   ]
  },
  {
   "cell_type": "markdown",
   "id": "5c9cd302",
   "metadata": {},
   "source": [
    "Vector Vector dot product\n",
    "The dimentions of two vectores should be same for dot product."
   ]
  },
  {
   "cell_type": "code",
   "execution_count": null,
   "id": "f5a0945f",
   "metadata": {},
   "outputs": [],
   "source": [
    "def dot_product(a,b):\n",
    "    x = 0\n",
    "    for i in range(a.shape[0]): # a.shape[0] gives an integer value of number of rows, so loop can iterate. where a.shape returns a tuple on which loop can't iterate.\n",
    "        x = x + a[i] * b[i]\n",
    "    return x"
   ]
  },
  {
   "cell_type": "code",
   "execution_count": 18,
   "id": "7bc58802",
   "metadata": {},
   "outputs": [],
   "source": [
    "a_ = np.array([\n",
    "    [1,2,3],\n",
    "    [4,5,6]\n",
    "])\n",
    "\n",
    "b_ = np.array([\n",
    "    [6,7,8],\n",
    "    [3,6,0]\n",
    "])"
   ]
  },
  {
   "cell_type": "code",
   "execution_count": 19,
   "id": "50f5e272",
   "metadata": {},
   "outputs": [
    {
     "name": "stdout",
     "output_type": "stream",
     "text": [
      "[18 44 24]\n"
     ]
    }
   ],
   "source": [
    "c_ = dot_product(a_ , b_)\n",
    "print(c_)"
   ]
  },
  {
   "cell_type": "code",
   "execution_count": 20,
   "id": "d1b378dc",
   "metadata": {},
   "outputs": [
    {
     "name": "stdout",
     "output_type": "stream",
     "text": [
      "80\n"
     ]
    }
   ],
   "source": [
    "#Using 1D array\n",
    "a_1 = np.array([1,6,8,0,5])\n",
    "b_1 = np.array([3,4,6,8,1])\n",
    "c_1 = dot_product(a_1 , b_1)\n",
    "print(c_1)"
   ]
  },
  {
   "cell_type": "markdown",
   "id": "89df724b",
   "metadata": {},
   "source": [
    "The Need for Speed: vector vs for loop"
   ]
  },
  {
   "cell_type": "code",
   "execution_count": 21,
   "id": "c77dc06f",
   "metadata": {},
   "outputs": [
    {
     "name": "stdout",
     "output_type": "stream",
     "text": [
      "1755747062.5835083\n"
     ]
    }
   ],
   "source": [
    "print(time.time())"
   ]
  },
  {
   "cell_type": "code",
   "execution_count": 28,
   "id": "6284f3a7",
   "metadata": {},
   "outputs": [
    {
     "name": "stdout",
     "output_type": "stream",
     "text": [
      "dot(A, B) = 2501072.5817\n",
      "Time using vectorization : 12.8953 ms\n",
      "Using for loop : 2501072.5817\n",
      "Time using for loop is : 4610.8997 ms\n"
     ]
    }
   ],
   "source": [
    "np.random.seed(1)\n",
    "A = np.random.rand(10000000)\n",
    "B = np.random.rand(10000000)\n",
    "\n",
    "# Using dot Product\n",
    "tic = time.time() # start time\n",
    "C = np.dot(A, B)  # dot product of A and B\n",
    "toc = time.time() # end time\n",
    "\n",
    "print(f\"dot(A, B) = {C:.4f}\")\n",
    "print(f\"Time using vectorization : {1000 * (toc-tic):.4f} ms\")\n",
    "\n",
    "\n",
    "#Using for loop\n",
    "tic2 = time.time() # start\n",
    "C2 = dot_product(A , B)   # dot product using for loop\n",
    "toc2 = time.time()\n",
    "\n",
    "print(f\"Using for loop : {C2:.4f}\")\n",
    "print(f\"Time using for loop is : {1000 * (toc2-tic2):.4f} ms\")"
   ]
  },
  {
   "cell_type": "code",
   "execution_count": null,
   "id": "270ef376",
   "metadata": {},
   "outputs": [
    {
     "name": "stdout",
     "output_type": "stream",
     "text": [
      "a = \n",
      "[[ 0  1  2  3  4  5  6  7  8  9]\n",
      " [10 11 12 13 14 15 16 17 18 19]]\n",
      "a[0, 2:7:1] =  [2 3 4 5 6] ,  a[0, 2:7:1].shape = (5,) a 1-D array\n",
      "a[:, 2:7:1] = \n",
      " [[ 2  3  4  5  6]\n",
      " [12 13 14 15 16]] ,  a[:, 2:7:1].shape = (2, 5) a 2-D array\n",
      "a[:,:] = \n",
      " [[ 0  1  2  3  4  5  6  7  8  9]\n",
      " [10 11 12 13 14 15 16 17 18 19]] ,  a[:,:].shape = (2, 10)\n",
      "a[1,:] =  [10 11 12 13 14 15 16 17 18 19] ,  a[1,:].shape = (10,) a 1-D array\n",
      "a[1]   =  [10 11 12 13 14 15 16 17 18 19] ,  a[1].shape   = (10,) a 1-D array\n"
     ]
    }
   ],
   "source": [
    "#vector 2-D slicing operations\n",
    "a = np.arange(20).reshape(-1, 10)\n",
    "print(f\"a = \\n{a}\")\n",
    "\n",
    "#access 5 consecutive elements (start:stop:step)\n",
    "print(\"a[0, 2:7:1] = \", a[0, 2:7:1], \",  a[0, 2:7:1].shape =\", a[0, 2:7:1].shape, \"a 1-D array\")\n",
    "\n",
    "#access 5 consecutive elements (start:stop:step) in two rows\n",
    "print(\"a[:, 2:7:1] = \\n\", a[:, 2:7:1], \",  a[:, 2:7:1].shape =\", a[:, 2:7:1].shape, \"a 2-D array\")\n",
    "\n",
    "# access all elements\n",
    "print(\"a[:,:] = \\n\", a[:,:], \",  a[:,:].shape =\", a[:,:].shape)\n",
    "\n",
    "# access all elements in one row (very common usage)\n",
    "print(\"a[1,:] = \", a[1,:], \",  a[1,:].shape =\", a[1,:].shape, \"a 1-D array\")\n",
    "# same as\n",
    "print(\"a[1]   = \", a[1],   \",  a[1].shape   =\", a[1].shape, \"a 1-D array\")\n"
   ]
  }
 ],
 "metadata": {
  "kernelspec": {
   "display_name": "Python 3",
   "language": "python",
   "name": "python3"
  },
  "language_info": {
   "codemirror_mode": {
    "name": "ipython",
    "version": 3
   },
   "file_extension": ".py",
   "mimetype": "text/x-python",
   "name": "python",
   "nbconvert_exporter": "python",
   "pygments_lexer": "ipython3",
   "version": "3.13.3"
  }
 },
 "nbformat": 4,
 "nbformat_minor": 5
}
