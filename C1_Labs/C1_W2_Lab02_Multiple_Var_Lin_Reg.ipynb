{
 "cells": [
  {
   "cell_type": "code",
   "execution_count": 6,
   "id": "d82b26ff",
   "metadata": {},
   "outputs": [],
   "source": [
    "import numpy as np\n",
    "import matplotlib.pyplot as plt"
   ]
  },
  {
   "cell_type": "code",
   "execution_count": 24,
   "id": "076e00e7",
   "metadata": {},
   "outputs": [],
   "source": [
    "import copy, math"
   ]
  },
  {
   "cell_type": "markdown",
   "id": "efef4ecc",
   "metadata": {},
   "source": [
    "# Problem Statement\n",
    "Size (sqft)\tNumber of Bedrooms\tNumber of floors\tAge of Home\tPrice (1000s dollars)\n",
    "2104\t5\t1\t45\t460\n",
    "1416\t3\t2\t40\t232\n",
    "852\t    2   1\t35\t178\n"
   ]
  },
  {
   "cell_type": "markdown",
   "id": "fe4cded3",
   "metadata": {},
   "source": [
    "Creating arrays for X_train and Y_train"
   ]
  },
  {
   "cell_type": "code",
   "execution_count": 7,
   "id": "5a922e86",
   "metadata": {},
   "outputs": [],
   "source": [
    "X_train = np.array([\n",
    "    [2104, 5, 1, 45],\n",
    "    [1416, 3, 2, 40],\n",
    "    [852 , 2, 1, 35]\n",
    "    ],\n",
    "    dtype= np.dtype(float)\n",
    ")\n",
    "\n",
    "Y_train = np.array([460, 232, 178], dtype=np.dtype(float))"
   ]
  },
  {
   "cell_type": "markdown",
   "id": "3066f154",
   "metadata": {},
   "source": [
    "Printing shape and matrices"
   ]
  },
  {
   "cell_type": "code",
   "execution_count": 8,
   "id": "f9a25c68",
   "metadata": {},
   "outputs": [
    {
     "name": "stdout",
     "output_type": "stream",
     "text": [
      "Shape of X_train : (3, 4)\n",
      "X_train : \n",
      " [[2.104e+03 5.000e+00 1.000e+00 4.500e+01]\n",
      " [1.416e+03 3.000e+00 2.000e+00 4.000e+01]\n",
      " [8.520e+02 2.000e+00 1.000e+00 3.500e+01]]\n",
      "Shape of Y_train : (3,)\n",
      "Y_train : \n",
      " [460. 232. 178.]\n"
     ]
    }
   ],
   "source": [
    "print(f\"Shape of X_train : {np.shape(X_train)}\")\n",
    "print(\"X_train : \\n\", X_train)\n",
    "print(f\"Shape of Y_train : {np.shape(Y_train)}\")\n",
    "print(\"Y_train : \\n\" , Y_train)"
   ]
  },
  {
   "cell_type": "markdown",
   "id": "df4a3ed4",
   "metadata": {},
   "source": [
    "Parameter vector w, b"
   ]
  },
  {
   "cell_type": "code",
   "execution_count": 9,
   "id": "c6f12b9f",
   "metadata": {},
   "outputs": [
    {
     "name": "stdout",
     "output_type": "stream",
     "text": [
      "The type of b_init : <class 'float'>\n",
      "The type of w_init : <class 'numpy.ndarray'>\n",
      "The shape of w_init : (4,)\n"
     ]
    }
   ],
   "source": [
    "b_init = 785.1811367994083\n",
    "w_init = np.array([0.39133535, 18.75376741, -53.36032453, -26.42131618])\n",
    "\n",
    "print(f\"The type of b_init : {type(b_init)}\")\n",
    "print(f\"The type of w_init : {type(w_init)}\")\n",
    "print(f\"The shape of w_init : {np.shape(w_init)}\")"
   ]
  },
  {
   "cell_type": "code",
   "execution_count": 10,
   "id": "54ceb16e",
   "metadata": {},
   "outputs": [
    {
     "name": "stdout",
     "output_type": "stream",
     "text": [
      "3\n"
     ]
    }
   ],
   "source": [
    "print(X_train.shape[0]) # gives no. of elements of X_train\n"
   ]
  },
  {
   "cell_type": "markdown",
   "id": "d086cd67",
   "metadata": {},
   "source": [
    "Function:\n",
    "    single predict using linear regression    \n",
    "    Args:\n",
    "      x (ndarray): Shape (n,) example with multiple features\n",
    "      w (ndarray): Shape (n,) model parameters    \n",
    "      b (scalar):  model parameter     \n",
    "      "
   ]
  },
  {
   "cell_type": "code",
   "execution_count": 11,
   "id": "7d8dc8af",
   "metadata": {},
   "outputs": [],
   "source": [
    "def predicted_single_loop(x , w, b):\n",
    "\n",
    "    # no. of samples:\n",
    "    no_of_training_examples = x.shape[0]\n",
    "\n",
    "    #prediction:\n",
    "    y_hat = 0\n",
    "\n",
    "    for example in range(no_of_training_examples):\n",
    "        # y = wx + b\n",
    "        i_prediction = w[example] * x[example]\n",
    "        y_hat = y_hat + i_prediction\n",
    "    # After iterating all training examples and multiplied them with w, add bias\n",
    "    y_hat = y_hat + b\n",
    "    return y_hat\n"
   ]
  },
  {
   "cell_type": "markdown",
   "id": "e58e8152",
   "metadata": {},
   "source": [
    "# get a row from our training data\n",
    "\n",
    "X_train[0, :2] \n",
    "here :\n",
    "0 indicates the first element of X_train, it means row 1.\n",
    ",\n",
    ": indicatess the column of that first element. here : indicates all the columns.\n",
    "\n",
    "e.g:\n",
    "\n",
    "[0, :2] : first row, first 2 columns of that row\n",
    "[0, :] : first row , all columns of that row."
   ]
  },
  {
   "cell_type": "code",
   "execution_count": 12,
   "id": "d1c59b15",
   "metadata": {},
   "outputs": [
    {
     "name": "stdout",
     "output_type": "stream",
     "text": [
      "First training example is : [2.104e+03 5.000e+00 1.000e+00 4.500e+01], and its shape is : (4,)\n"
     ]
    }
   ],
   "source": [
    "X_example = X_train[0, :]\n",
    "print(f\"First training example is : {X_example}, and its shape is : {X_example.shape}\")"
   ]
  },
  {
   "cell_type": "markdown",
   "id": "2cb9ca8d",
   "metadata": {},
   "source": [
    "# make a prediction\n",
    "Now we have x , w, b\n",
    "\n",
    "x = X_example\n",
    "w = w_init\n",
    "b = b_init\n",
    "\n",
    "So, now we will use them, and make prediction"
   ]
  },
  {
   "cell_type": "code",
   "execution_count": 13,
   "id": "1d4cde1c",
   "metadata": {},
   "outputs": [
    {
     "name": "stdout",
     "output_type": "stream",
     "text": [
      "The price of house with 2104.0 sqft size, 5.0 bedrooms, 1.0 floors and with age of 45.0 is: 459.9999976194083.\n"
     ]
    }
   ],
   "source": [
    "f_wb = predicted_single_loop(X_example, w_init, b_init)\n",
    "print(f\"The price of house with {X_example[0] } sqft size, {X_example[1]} bedrooms, {X_example[2]} floors and with age of {X_example[3]} is: {f_wb}.\")"
   ]
  },
  {
   "cell_type": "markdown",
   "id": "2612a758",
   "metadata": {},
   "source": [
    "# Compute Cost With Multiple Variables"
   ]
  },
  {
   "cell_type": "markdown",
   "id": "32d5f63b",
   "metadata": {},
   "source": [
    "The equation for the cost function with multiple variables  𝐽(𝐰,𝑏)\n",
    "  is:\n",
    "𝐽(𝐰,𝑏)=1/2𝑚 ∑𝑖=0 𝑚−1 (𝑓𝐰,𝑏(𝐱(𝑖))−𝑦(𝑖))2"
   ]
  },
  {
   "cell_type": "code",
   "execution_count": 14,
   "id": "a5791adf",
   "metadata": {},
   "outputs": [],
   "source": [
    "def compute_cost(x,y,w,b):\n",
    "    m = x.shape[0] # m is total no. of samples\n",
    "    cost = 0\n",
    "    for i in range(m):\n",
    "        f_wb_i = np.dot(x[i],w) + b # as we know, f w,b(x) = wx + b. so, we are first calculating this f_wb for each element m.\n",
    "        # once f w,b (x) is calculated, \n",
    "        # next\n",
    "        # put it in j(w, b) = 1/2m  ∑𝑖=0 𝑚−1  (f w,b(x) - y)^2\n",
    "        # f w,b(x) replce it with f_wb_i\n",
    "        # \n",
    "        cost = cost + (f_wb_i - y[i])**2 \n",
    "\n",
    "    # so , now ∑𝑖=0 𝑚−1  (f w,b(x) - y)^2 is calculated , once its done, we have to multiply the cost by 1/2m\n",
    "    cost = cost / (2*m)\n",
    "    return cost\n"
   ]
  },
  {
   "cell_type": "code",
   "execution_count": 15,
   "id": "4eff1b37",
   "metadata": {},
   "outputs": [
    {
     "name": "stdout",
     "output_type": "stream",
     "text": [
      "The optimal w cost : 1.5578904428966628e-12\n"
     ]
    }
   ],
   "source": [
    "cost_cal = compute_cost(X_train, Y_train, w_init, b_init)\n",
    "print(f\"The optimal w cost : {cost_cal}\")"
   ]
  },
  {
   "cell_type": "markdown",
   "id": "4c1ce3df",
   "metadata": {},
   "source": [
    "# no. of sample , and  no. of feature in each sample"
   ]
  },
  {
   "cell_type": "code",
   "execution_count": 16,
   "id": "e3118b5b",
   "metadata": {},
   "outputs": [
    {
     "name": "stdout",
     "output_type": "stream",
     "text": [
      "3\n",
      "4\n"
     ]
    }
   ],
   "source": [
    "m,n = X_train.shape \n",
    "\n",
    "\"\"\" it directly unpack the tuple into m and n. let say we have shape of X_train (3, 4), it unpack it, give 3\n",
    "to m and 4 to n.  gives no. of sample , and  no. of feature in each sample\"\"\"\n",
    "\n",
    "print(m)\n",
    "print(n)\n",
    "\n",
    "# Alternative to get this:\n",
    "m = X_train.shape[0]\n",
    "n = X_train.shape[1]\n"
   ]
  },
  {
   "cell_type": "markdown",
   "id": "68de72b0",
   "metadata": {},
   "source": [
    "Compute Gradient with Multiple Variables"
   ]
  },
  {
   "cell_type": "code",
   "execution_count": 17,
   "id": "1ff60b53",
   "metadata": {},
   "outputs": [],
   "source": [
    "def compute_gradient(x,y,w,b):\n",
    "    m,n = X_train.shape\n",
    "    dj_dw = np.zeros((n,))\n",
    "    dj_db = 0\n",
    "\n",
    "    for row in range(m):\n",
    "        err = (np.dot(x[row] , w) + b) - y[row]\n",
    "        for feature in range(n):\n",
    "            temp = err * x[row, feature]\n",
    "            dj_dw[feature] = dj_dw[feature] + temp\n",
    "        dj_db = dj_db + err\n",
    "        dj_db = dj_db / m\n",
    "        dj_dw = dj_dw / m\n",
    "\n",
    "    return  dj_db , dj_dw\n"
   ]
  },
  {
   "cell_type": "code",
   "execution_count": 18,
   "id": "d9a26cb5",
   "metadata": {},
   "outputs": [
    {
     "name": "stdout",
     "output_type": "stream",
     "text": [
      "dj_db at initial w,b: -6.062108931709426e-07\n",
      "dj_dw at initial w,b: \n",
      " [-7.29064358e-04 -1.65810885e-06 -7.87387771e-07 -2.30049663e-05]\n"
     ]
    }
   ],
   "source": [
    "tmp_dj_db , tmp_dj_dw = compute_gradient(X_train, Y_train, w_init, b_init)\n",
    "print(f'dj_db at initial w,b: {tmp_dj_db}')\n",
    "print(f'dj_dw at initial w,b: \\n {tmp_dj_dw}')"
   ]
  },
  {
   "cell_type": "markdown",
   "id": "78131aa4",
   "metadata": {},
   "source": [
    "Gradient Descent With Multiple Variables"
   ]
  },
  {
   "cell_type": "code",
   "execution_count": 25,
   "id": "f1d5d408",
   "metadata": {},
   "outputs": [],
   "source": [
    "def gradient_descent(X, y, w_in, b_in, cost_function, gradient_function, alpha, num_iters): \n",
    "    \"\"\"\n",
    "    Performs batch gradient descent to learn w and b. Updates w and b by taking \n",
    "    num_iters gradient steps with learning rate alpha\n",
    "    \n",
    "    Args:\n",
    "      X (ndarray (m,n))   : Data, m examples with n features\n",
    "      y (ndarray (m,))    : target values\n",
    "      w_in (ndarray (n,)) : initial model parameters  \n",
    "      b_in (scalar)       : initial model parameter\n",
    "      cost_function       : function to compute cost\n",
    "      gradient_function   : function to compute the gradient\n",
    "      alpha (float)       : Learning rate\n",
    "      num_iters (int)     : number of iterations to run gradient descent\n",
    "      \n",
    "    Returns:\n",
    "      w (ndarray (n,)) : Updated values of parameters \n",
    "      b (scalar)       : Updated value of parameter \n",
    "      \"\"\"\n",
    "    \n",
    "    # An array to store cost J and w's at each iteration primarily for graphing later\n",
    "    J_history = []\n",
    "    w = copy.deepcopy(w_in)  #avoid modifying global w within function\n",
    "    b = b_in\n",
    "    \n",
    "    for i in range(num_iters):\n",
    "\n",
    "        # Calculate the gradient and update the parameters\n",
    "        dj_db,dj_dw = gradient_function(X, y, w, b)   ##None\n",
    "\n",
    "        # Update Parameters using w, b, alpha and gradient\n",
    "        w = w - alpha * dj_dw               ##None\n",
    "        b = b - alpha * dj_db               ##None\n",
    "      \n",
    "        # Save cost J at each iteration\n",
    "        if i<100000:      # prevent resource exhaustion \n",
    "            J_history.append( cost_function(X, y, w, b))\n",
    "\n",
    "        # Print cost every at intervals 10 times or as many iterations if < 10\n",
    "        if i% math.ceil(num_iters / 10) == 0:\n",
    "            print(f\"Iteration {i:4d}: Cost {J_history[-1]:8.2f}   \")\n",
    "        \n",
    "    return w, b, J_history #return final w,b and J history for graphing"
   ]
  },
  {
   "cell_type": "code",
   "execution_count": 27,
   "id": "c32d3301",
   "metadata": {},
   "outputs": [
    {
     "name": "stdout",
     "output_type": "stream",
     "text": [
      "Iteration    0: Cost     0.00   \n",
      "Iteration  100: Cost     0.00   \n",
      "Iteration  200: Cost     0.00   \n",
      "Iteration  300: Cost     0.00   \n",
      "Iteration  400: Cost     0.00   \n",
      "Iteration  500: Cost     0.00   \n",
      "Iteration  600: Cost     0.00   \n",
      "Iteration  700: Cost     0.00   \n",
      "Iteration  800: Cost     0.00   \n",
      "Iteration  900: Cost     0.00   \n",
      "b,w found by gradient descent: 785.18,[  0.39133535  18.75376741 -53.36032453 -26.42131618] \n",
      "prediction: 460.00, target value: 460.0\n",
      "prediction: 232.00, target value: 232.0\n",
      "prediction: 178.00, target value: 178.0\n"
     ]
    }
   ],
   "source": [
    "# initialize parameters\n",
    "initial_w = np.zeros_like(w_init)\n",
    "initial_b = 0.\n",
    "# some gradient descent settings\n",
    "iterations = 1000\n",
    "alpha = 5.0e-7\n",
    "# run gradient descent \n",
    "w_final, b_final, J_hist = gradient_descent(X_train, Y_train, w_init, b_init,\n",
    "                                                    compute_cost, compute_gradient, \n",
    "                                                    alpha, iterations)\n",
    "print(f\"b,w found by gradient descent: {b_final:0.2f},{w_final} \")\n",
    "m,_ = X_train.shape\n",
    "for i in range(m):\n",
    "    print(f\"prediction: {np.dot(X_train[i], w_final) + b_final:0.2f}, target value: {Y_train[i]}\")"
   ]
  },
  {
   "cell_type": "code",
   "execution_count": 28,
   "id": "bac43b61",
   "metadata": {},
   "outputs": [
    {
     "data": {
      "image/png": "[encoded data removed]",
      "text/plain": [
       "<Figure size 1200x400 with 2 Axes>"
      ]
     },
     "metadata": {},
     "output_type": "display_data"
    }
   ],
   "source": [
    "# plot cost versus iteration  \n",
    "fig, (ax1, ax2) = plt.subplots(1, 2, constrained_layout=True, figsize=(12, 4))\n",
    "ax1.plot(J_hist)\n",
    "ax2.plot(100 + np.arange(len(J_hist[100:])), J_hist[100:])\n",
    "ax1.set_title(\"Cost vs. iteration\");  ax2.set_title(\"Cost vs. iteration (tail)\")\n",
    "ax1.set_ylabel('Cost')             ;  ax2.set_ylabel('Cost') \n",
    "ax1.set_xlabel('iteration step')   ;  ax2.set_xlabel('iteration step') \n",
    "plt.show()"
   ]
  }
 ],
 "metadata": {
  "kernelspec": {
   "display_name": "Python 3",
   "language": "python",
   "name": "python3"
  },
  "language_info": {
   "codemirror_mode": {
    "name": "ipython",
    "version": 3
   },
   "file_extension": ".py",
   "mimetype": "text/x-python",
   "name": "python",
   "nbconvert_exporter": "python",
   "pygments_lexer": "ipython3",
   "version": "3.13.3"
  }
 },
 "nbformat": 4,
 "nbformat_minor": 5
}
